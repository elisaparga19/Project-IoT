{
 "cells": [
  {
   "cell_type": "code",
   "execution_count": 2,
   "metadata": {},
   "outputs": [],
   "source": [
    "import time\n",
    "import csv\n",
    "import os\n",
    "import random\n",
    "import pandas as pd\n",
    "from time import strftime, localtime"
   ]
  },
  {
   "cell_type": "code",
   "execution_count": 4,
   "metadata": {},
   "outputs": [],
   "source": [
    "def write_csv(filename, time, value):\n",
    "    with open(filename+'.csv', 'a', newline='') as csv_file:\n",
    "        csv_writer = csv.writer(csv_file, delimiter='\\t')\n",
    "        csv_writer.writerow([time, value])"
   ]
  },
  {
   "cell_type": "code",
   "execution_count": 6,
   "metadata": {},
   "outputs": [],
   "source": [
    "filename = 'C:/Users/elisa/Documents/2023-1/Lab_TICs/Proyecto/noise_detection'\n",
    "for i in range(30):\n",
    "    time.sleep(1)\n",
    "    current_time = time.time()\n",
    "    value = bool(random.randint(0, 1))\n",
    "\n",
    "    if value:\n",
    "        write_csv(filename, current_time, 1)\n",
    "    else:\n",
    "        write_csv(filename, current_time, 0)\n",
    "        "
   ]
  },
  {
   "cell_type": "code",
   "execution_count": 24,
   "metadata": {},
   "outputs": [],
   "source": [
    "df = pd.read_csv('test.csv', sep='\\t')"
   ]
  },
  {
   "cell_type": "code",
   "execution_count": 29,
   "metadata": {},
   "outputs": [],
   "source": [
    "new_dict_df = {'new_datetime': [], 'value': []}\n",
    "new_df = pd.DataFrame(new_dict_df)\n",
    "\n",
    "def format_datetime(x):\n",
    "    format_dt = '%Y-%m-%d %H:%M:%S'\n",
    "    return strftime(format_dt, localtime(x))\n",
    "\n",
    "new_df['new_datetime'] = df.iloc[:, 0].apply(format_datetime)\n",
    "new_df['value'] = df.iloc[:, 1]"
   ]
  },
  {
   "cell_type": "code",
   "execution_count": 7,
   "metadata": {},
   "outputs": [
    {
     "name": "stdout",
     "output_type": "stream",
     "text": [
      "[1686528883.7256613, 1686528883.7266605, 1686528883.7266605, 1686528883.7276585, 1686528883.7286599, 1686528883.7286599, 1686528883.7296596, 1686528883.7296596, 1686528883.7306647, 1686528883.7306647, 1686528883.73166, 1686528883.73166, 1686528883.7326612, 1686528883.7336602, 1686528883.7346609, 1686528883.7346609, 1686528883.735669, 1686528883.736664, 1686528883.7376587, 1686528883.7376587, 1686528883.738663, 1686528883.7396677, 1686528883.7406633, 1686528883.7416632, 1686528883.7416632, 1686528883.7426696, 1686528883.743664, 1686528883.743664, 1686528883.744663]\n",
      "[0.0, 1.0, 1.0, 0.0, 1.0, 0.0, 0.0, 1.0, 0.0, 1.0, 1.0, 1.0, 1.0, 0.0, 1.0, 1.0, 1.0, 0.0, 1.0, 1.0, 1.0, 1.0, 0.0, 0.0, 1.0, 0.0, 0.0, 1.0, 0.0]\n"
     ]
    }
   ],
   "source": [
    "def read_csv_file(file_path):\n",
    "    columns = []  # List to store the columns\n",
    "\n",
    "    with open(file_path, 'r') as csv_file:\n",
    "        csv_reader = csv.reader(csv_file, delimiter='\\t')\n",
    "        header = next(csv_reader)  # Read the header row\n",
    "        \n",
    "        # Initialize empty lists for each column\n",
    "        for _ in range(len(header)):\n",
    "            columns.append([])\n",
    "\n",
    "        # Iterate over each row and append values to respective columns\n",
    "        for row in csv_reader:\n",
    "            for i, value in enumerate(row):\n",
    "                columns[i].append(float(value))\n",
    "\n",
    "    return columns\n",
    "\n",
    "# Usage example\n",
    "file_path = 'noise_detection.csv'\n",
    "columns = read_csv_file(file_path)\n",
    "\n",
    "# Accessing columns by index\n",
    "column_1 = columns[0]\n",
    "column_2 = columns[1]\n",
    "print(column_1)\n",
    "print(column_2)\n"
   ]
  }
 ],
 "metadata": {
  "kernelspec": {
   "display_name": "Python 3",
   "language": "python",
   "name": "python3"
  },
  "language_info": {
   "codemirror_mode": {
    "name": "ipython",
    "version": 3
   },
   "file_extension": ".py",
   "mimetype": "text/x-python",
   "name": "python",
   "nbconvert_exporter": "python",
   "pygments_lexer": "ipython3",
   "version": "3.11.3"
  },
  "orig_nbformat": 4
 },
 "nbformat": 4,
 "nbformat_minor": 2
}
